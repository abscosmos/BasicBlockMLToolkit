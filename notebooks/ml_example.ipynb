{
 "cells": [
  {
   "cell_type": "code",
   "execution_count": 1,
   "id": "b44239ee-6c31-4557-97ae-c282b06fb694",
   "metadata": {},
   "outputs": [],
   "source": [
    "import os\n",
    "import torch\n",
    "import torch.nn as nn\n",
    "from torch.utils.data import DataLoader, random_split\n",
    "import numpy as np\n",
    "from pathlib import Path"
   ]
  },
  {
   "cell_type": "code",
   "execution_count": 2,
   "id": "07254730-5bb7-4426-9a2e-ef0730135c10",
   "metadata": {},
   "outputs": [],
   "source": [
    "from ml.predictor import BasicBlockPredictor\n",
    "from ml.online_trainer import OnlineLearner\n",
    "from ml.dataset import analyze_sequence_stats\n",
    "from bb_toolkit import BasicBlockTokenizer, TraceData"
   ]
  },
  {
   "cell_type": "code",
   "execution_count": 3,
   "id": "43e067b9-5047-4bfb-9881-5f7d848b1311",
   "metadata": {},
   "outputs": [
    {
     "name": "stdout",
     "output_type": "stream",
     "text": [
      "Using device: cuda\n"
     ]
    }
   ],
   "source": [
    "device = torch.device('cuda' if torch.cuda.is_available() else 'cpu')\n",
    "print(f\"Using device: {device}\")"
   ]
  },
  {
   "cell_type": "code",
   "execution_count": 4,
   "id": "03125604-206a-4139-b687-a557202ab3d8",
   "metadata": {},
   "outputs": [],
   "source": [
    "def load_all_traces(traces_dir: os.PathLike) -> list[TraceData]:\n",
    "    \"\"\"Load all .trace files from directory, sorted by creation time.\"\"\"\n",
    "    files = sorted(Path(traces_dir).glob(\"*.trace\"), key=lambda f: f.stat().st_ctime)\n",
    "    return [TraceData.from_binary_file(file) for file in files]"
   ]
  },
  {
   "cell_type": "code",
   "execution_count": 5,
   "id": "92946076-f284-4caa-ad30-a3e5f27357b3",
   "metadata": {},
   "outputs": [
    {
     "data": {
      "text/plain": [
       "315"
      ]
     },
     "execution_count": 5,
     "metadata": {},
     "output_type": "execute_result"
    }
   ],
   "source": [
    "trace_dir = Path(\"./collection/traces\")\n",
    "traces = load_all_traces(trace_dir)\n",
    "\n",
    "len(traces)"
   ]
  },
  {
   "cell_type": "code",
   "execution_count": 6,
   "id": "cf50e377-752a-43a5-8516-5161b6958518",
   "metadata": {},
   "outputs": [
    {
     "data": {
      "text/plain": [
       "1525117"
      ]
     },
     "execution_count": 6,
     "metadata": {},
     "output_type": "execute_result"
    }
   ],
   "source": [
    "seqs = [trace.sequence().blocks() for trace in traces]\n",
    "blocks = [item for sublist in seqs for item in sublist]\n",
    "len(blocks)"
   ]
  },
  {
   "cell_type": "code",
   "execution_count": null,
   "id": "73a4c424-b52d-4b88-ade4-4e28d9797b02",
   "metadata": {},
   "outputs": [],
   "source": [
    "import random\n",
    "\n",
    "random.seed(100)\n",
    "random.shuffle(traces)\n",
    "\n",
    "# partition\n",
    "initial_traces = traces[0:250]\n",
    "exp_traces = traces[250:]\n",
    "\n",
    "len(initial_traces), len(exp_traces)"
   ]
  },
  {
   "cell_type": "code",
   "execution_count": null,
   "id": "5731ca8f-5a6f-481d-a4da-fb916bd220de",
   "metadata": {},
   "outputs": [],
   "source": [
    "# create predictor\n",
    "tokenizer_path = Path(\"./run/tokenizer.bin\")\n",
    "model_path = Path(\"./run/model.pt\")\n",
    "\n",
    "predictor = BasicBlockPredictor(\n",
    "    tokenizer_path = tokenizer_path,\n",
    "    model_path = model_path,\n",
    "    device=device\n",
    ")"
   ]
  },
  {
   "cell_type": "code",
   "execution_count": null,
   "id": "5834754f-8d2b-4649-9d29-c7b7ebc046ba",
   "metadata": {},
   "outputs": [],
   "source": [
    "# tokenizer initial traces\n",
    "print(f\"initial len: {len(predictor.tokenizer)}\")\n",
    "\n",
    "initial_sequences = [predictor.tokenizer.process_trace(trace) for trace in initial_traces]\n",
    "len(predictor.tokenizer)"
   ]
  },
  {
   "cell_type": "code",
   "execution_count": null,
   "id": "d9fea255-411f-43e0-a76a-549e12bf6cbd",
   "metadata": {},
   "outputs": [],
   "source": [
    "# example token\n",
    "print(predictor.tokenizer.get_block(15000))"
   ]
  },
  {
   "cell_type": "code",
   "execution_count": null,
   "id": "b8f926bd-c4e5-4b62-bdb2-ee4774744b93",
   "metadata": {},
   "outputs": [],
   "source": [
    "# sequence stats\n",
    "analyze_sequence_stats(initial_sequences)"
   ]
  },
  {
   "cell_type": "code",
   "execution_count": null,
   "id": "2a8839ce-439c-4fa0-b004-becdcb587a46",
   "metadata": {},
   "outputs": [],
   "source": [
    "initial_training_results = predictor.learner.initial_training(\n",
    "    trace_sequences=initial_sequences,\n",
    "    epochs=3,\n",
    "    # test_split = None\n",
    "    test_split=0.025\n",
    ")\n",
    "\n",
    "predictor.save_model(model_path, tokenizer_path)\n",
    "\n",
    "initial_training_results"
   ]
  },
  {
   "cell_type": "code",
   "execution_count": null,
   "id": "224bfe20-3380-41c5-83d0-9d36a83935d3",
   "metadata": {},
   "outputs": [],
   "source": [
    "predictor.get_model_stats()"
   ]
  },
  {
   "cell_type": "code",
   "execution_count": null,
   "id": "4e73236e-c5cc-40ee-a52f-ed73b8a05b5c",
   "metadata": {},
   "outputs": [],
   "source": [
    "def test_accuracy(predictor, test_sequence, offset: int = 0, num_tests=50, context_length=64, top_k=5):\n",
    "      correct_top1 = 0\n",
    "      correct_topk = 0\n",
    "      total_predictions = 0\n",
    "\n",
    "      for i in range(num_tests):\n",
    "          start_pos = offset + i\n",
    "          context = test_sequence[start_pos:start_pos + context_length]\n",
    "          actual_next = test_sequence[start_pos + context_length]\n",
    "\n",
    "          try:\n",
    "              predictions = predictor.predict_next_block_from_sequence(context, top_k=top_k)\n",
    "              if predictions:\n",
    "                  predicted_tokens = [pred[0] for pred in predictions]\n",
    "\n",
    "                  # Top-1 accuracy\n",
    "                  if predicted_tokens[0] == actual_next:\n",
    "                      correct_top1 += 1\n",
    "\n",
    "                  # Top-K accuracy\n",
    "                  if actual_next in predicted_tokens:\n",
    "                      correct_topk += 1\n",
    "\n",
    "                  total_predictions += 1\n",
    "          except Exception as e:\n",
    "              print(f\"Error at position {start_pos}: {e}\")\n",
    "              continue\n",
    "\n",
    "      if total_predictions == 0:\n",
    "          return {'error': 'No successful predictions made'}\n",
    "\n",
    "      results = {\n",
    "          'top1_accuracy': correct_top1 / total_predictions,\n",
    "          'topk_accuracy': correct_topk / total_predictions,\n",
    "          'total_tests': total_predictions,\n",
    "          'context_length': context_length,\n",
    "          'top_k': top_k\n",
    "      }\n",
    "\n",
    "      print(f\"Results ({total_predictions} tests):\")\n",
    "      print(f\"  Top-1 Accuracy: {results['top1_accuracy']:.4f} ({results['top1_accuracy']*100:.1f}%)\")\n",
    "      print(f\"  Top-{top_k} Accuracy: {results['topk_accuracy']:.4f} ({results['topk_accuracy']*100:.1f}%)\")\n",
    "\n",
    "      return results"
   ]
  },
  {
   "cell_type": "code",
   "execution_count": null,
   "id": "c628c801-7d7c-4426-9538-52ca2d090152",
   "metadata": {},
   "outputs": [],
   "source": [
    "test_trace, *exp_traces = exp_traces"
   ]
  },
  {
   "cell_type": "code",
   "execution_count": null,
   "id": "827dcd6a-5ff9-484c-b86b-ae3e2184b25c",
   "metadata": {},
   "outputs": [],
   "source": [
    "test_blocks = test_trace.sequence().symbolized_blocks()"
   ]
  },
  {
   "cell_type": "code",
   "execution_count": null,
   "id": "43fe2407-2632-4d28-8663-61abf0d623b8",
   "metadata": {},
   "outputs": [],
   "source": [
    "test_accuracy(predictor, test_blocks, offset=150)"
   ]
  },
  {
   "cell_type": "code",
   "execution_count": null,
   "id": "c45dc5d0-fad3-42d3-a43f-494d3c5bc5c2",
   "metadata": {},
   "outputs": [],
   "source": [
    "predictor.clear_cache()"
   ]
  },
  {
   "cell_type": "code",
   "execution_count": null,
   "id": "c7a91cbf-820c-4560-9bbb-a99843ca8e90",
   "metadata": {},
   "outputs": [],
   "source": [
    "predictor.predict_next_block_from_sequence(test_blocks[1000:2000], top_k=1)"
   ]
  },
  {
   "cell_type": "code",
   "execution_count": null,
   "id": "843525d1-686c-4dae-aa0f-a60379d9e38e",
   "metadata": {},
   "outputs": [],
   "source": [
    "print(test_blocks[2001])"
   ]
  },
  {
   "cell_type": "code",
   "execution_count": null,
   "id": "b69b1d93-2963-4981-8c70-7e946bafe074",
   "metadata": {},
   "outputs": [],
   "source": [
    "print(predictor.tokenizer.get_block(602))"
   ]
  },
  {
   "cell_type": "code",
   "execution_count": null,
   "id": "22793c7f-47b9-4e14-866c-e63aefbed288",
   "metadata": {},
   "outputs": [],
   "source": [
    "# create predictor\n",
    "tokenizer_path = Path(\"./run/tokenizer.bin\")\n",
    "model_path = Path(\"./run/model.pt\")\n",
    "\n",
    "predictor = BasicBlockPredictor(\n",
    "    tokenizer_path = tokenizer_path,\n",
    "    model_path = model_path,\n",
    "    device=device\n",
    ")"
   ]
  },
  {
   "cell_type": "code",
   "execution_count": null,
   "id": "f648eeef-7225-4c78-9d01-9e5b3e9038b0",
   "metadata": {},
   "outputs": [],
   "source": []
  }
 ],
 "metadata": {
  "kernelspec": {
   "display_name": "Python 3 (ipykernel)",
   "language": "python",
   "name": "python3"
  },
  "language_info": {
   "codemirror_mode": {
    "name": "ipython",
    "version": 3
   },
   "file_extension": ".py",
   "mimetype": "text/x-python",
   "name": "python",
   "nbconvert_exporter": "python",
   "pygments_lexer": "ipython3",
   "version": "3.13.5"
  }
 },
 "nbformat": 4,
 "nbformat_minor": 5
}
